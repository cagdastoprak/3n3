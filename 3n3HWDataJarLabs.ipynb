{
  "nbformat": 4,
  "nbformat_minor": 0,
  "metadata": {
    "colab": {
      "name": "3n3HWDataJarLabs.ipynb",
      "provenance": []
    },
    "kernelspec": {
      "name": "python3",
      "display_name": "Python 3"
    }
  },
  "cells": [
    {
      "cell_type": "code",
      "metadata": {
        "id": "dkQXCHowQa6j",
        "colab_type": "code",
        "colab": {
          "base_uri": "https://localhost:8080/",
          "height": 34
        },
        "outputId": "1bf83e3e-4250-4787-f851-eef531965e70"
      },
      "source": [
        "import numpy as np\n",
        "import pandas as pd\n",
        "import matplotlib.pyplot as plt"
      ],
      "execution_count": 24,
      "outputs": [
        {
          "output_type": "stream",
          "text": [
            "ERROR! Session/line number was not unique in database. History logging moved to new session 60\n"
          ],
          "name": "stdout"
        }
      ]
    },
    {
      "cell_type": "code",
      "metadata": {
        "id": "bKXK-AU4QwZI",
        "colab_type": "code",
        "colab": {
          "base_uri": "https://localhost:8080/",
          "height": 853
        },
        "outputId": "d022f531-a89d-4e29-e167-962226332e82"
      },
      "source": [
        "normalDagilim=np.random.normal(100,15,10000)\n",
        "plt.hist(normalDagilim, bins = 100)"
      ],
      "execution_count": 25,
      "outputs": [
        {
          "output_type": "execute_result",
          "data": {
            "text/plain": [
              "(array([  1.,   0.,   0.,   0.,   0.,   0.,   0.,   0.,   2.,   0.,   0.,\n",
              "          0.,   1.,   1.,   0.,   1.,   2.,   7.,   0.,   3.,   7.,   5.,\n",
              "          8.,  10.,  13.,  22.,  30.,  25.,  39.,  35.,  55.,  54.,  51.,\n",
              "         79.,  91., 101., 115., 115., 154., 187., 200., 216., 200., 218.,\n",
              "        254., 271., 258., 288., 298., 315., 330., 342., 307., 351., 356.,\n",
              "        353., 374., 303., 350., 355., 276., 269., 234., 243., 233., 200.,\n",
              "        211., 160., 147., 146., 111.,  82.,  88.,  79.,  68.,  56.,  33.,\n",
              "         61.,  32.,  24.,  19.,  15.,  18.,   4.,   9.,  10.,   2.,   6.,\n",
              "          5.,   1.,   1.,   1.,   0.,   1.,   0.,   0.,   0.,   0.,   0.,\n",
              "          2.]), array([ 29.96338108,  31.26836014,  32.5733392 ,  33.87831826,\n",
              "         35.18329732,  36.48827637,  37.79325543,  39.09823449,\n",
              "         40.40321355,  41.70819261,  43.01317167,  44.31815073,\n",
              "         45.62312979,  46.92810885,  48.23308791,  49.53806696,\n",
              "         50.84304602,  52.14802508,  53.45300414,  54.7579832 ,\n",
              "         56.06296226,  57.36794132,  58.67292038,  59.97789944,\n",
              "         61.2828785 ,  62.58785755,  63.89283661,  65.19781567,\n",
              "         66.50279473,  67.80777379,  69.11275285,  70.41773191,\n",
              "         71.72271097,  73.02769003,  74.33266909,  75.63764814,\n",
              "         76.9426272 ,  78.24760626,  79.55258532,  80.85756438,\n",
              "         82.16254344,  83.4675225 ,  84.77250156,  86.07748062,\n",
              "         87.38245968,  88.68743873,  89.99241779,  91.29739685,\n",
              "         92.60237591,  93.90735497,  95.21233403,  96.51731309,\n",
              "         97.82229215,  99.12727121, 100.43225027, 101.73722932,\n",
              "        103.04220838, 104.34718744, 105.6521665 , 106.95714556,\n",
              "        108.26212462, 109.56710368, 110.87208274, 112.1770618 ,\n",
              "        113.48204086, 114.78701991, 116.09199897, 117.39697803,\n",
              "        118.70195709, 120.00693615, 121.31191521, 122.61689427,\n",
              "        123.92187333, 125.22685239, 126.53183145, 127.8368105 ,\n",
              "        129.14178956, 130.44676862, 131.75174768, 133.05672674,\n",
              "        134.3617058 , 135.66668486, 136.97166392, 138.27664298,\n",
              "        139.58162204, 140.88660109, 142.19158015, 143.49655921,\n",
              "        144.80153827, 146.10651733, 147.41149639, 148.71647545,\n",
              "        150.02145451, 151.32643357, 152.63141263, 153.93639168,\n",
              "        155.24137074, 156.5463498 , 157.85132886, 159.15630792,\n",
              "        160.46128698]), <a list of 100 Patch objects>)"
            ]
          },
          "metadata": {
            "tags": []
          },
          "execution_count": 25
        },
        {
          "output_type": "display_data",
          "data": {
            "image/png": "[encoded data removed]",
            "text/plain": [
              "<Figure size 432x288 with 1 Axes>"
            ]
          },
          "metadata": {
            "tags": []
          }
        }
      ]
    },
    {
      "cell_type": "code",
      "metadata": {
        "id": "jX_gPr1aRZxX",
        "colab_type": "code",
        "colab": {
          "base_uri": "https://localhost:8080/",
          "height": 415
        },
        "outputId": "20674487-f824-409a-94da-ad83548fa3c9"
      },
      "source": [
        "kontrolGrubu=np.random.normal(np.mean(normalDagilim),np.std(normalDagilim),10000)\n",
        "normalDagilim.sort()\n",
        "kontrolGrubu.sort()\n",
        "plt.figure(figsize=(8,10),dpi=50)\n",
        "plt.scatter(normalDagilim,kontrolGrubu)\n",
        "plt.plot([np.min(kontrolGrubu),np.max(kontrolGrubu)],[np.min(normalDagilim),np.max(normalDagilim)])\n",
        "plt.show()"
      ],
      "execution_count": 26,
      "outputs": [
        {
          "output_type": "display_data",
          "data": {
            "image/png": "[encoded data removed]",
            "text/plain": [
              "<Figure size 400x500 with 1 Axes>"
            ]
          },
          "metadata": {
            "tags": []
          }
        }
      ]
    },
    {
      "cell_type": "code",
      "metadata": {
        "id": "AWnivc9BSmlB",
        "colab_type": "code",
        "colab": {}
      },
      "source": [
        "google=pd.read_csv('GOOG.csv')"
      ],
      "execution_count": 0,
      "outputs": []
    },
    {
      "cell_type": "code",
      "metadata": {
        "id": "xbwF9a9qVFkb",
        "colab_type": "code",
        "colab": {
          "base_uri": "https://localhost:8080/",
          "height": 34
        },
        "outputId": "650537cd-1245-4c31-954b-95c4a55773a2"
      },
      "source": [
        "xlimit=google.count()['Date']\n",
        "print(xlimit)"
      ],
      "execution_count": 33,
      "outputs": [
        {
          "output_type": "stream",
          "text": [
            "755\n"
          ],
          "name": "stdout"
        }
      ]
    },
    {
      "cell_type": "code",
      "metadata": {
        "id": "kpOCxN93WldX",
        "colab_type": "code",
        "colab": {
          "base_uri": "https://localhost:8080/",
          "height": 34
        },
        "outputId": "da05605d-757d-4c93-822f-e6a337eb39e8"
      },
      "source": [
        "df = pd.DataFrame({'Google Kapanış' : google['Close'], #Done!!! :D\n",
        "                  'Tarih' : google['Date']})\n",
        "    \n",
        "df\n",
        "print(df['Google Kapanış'][1])"
      ],
      "execution_count": 32,
      "outputs": [
        {
          "output_type": "stream",
          "text": [
            "512.4630129999999\n"
          ],
          "name": "stdout"
        }
      ]
    },
    {
      "cell_type": "code",
      "metadata": {
        "id": "tCzKiN_8VPe3",
        "colab_type": "code",
        "colab": {
          "base_uri": "https://localhost:8080/",
          "height": 34
        },
        "outputId": "17dea5de-8221-462a-a6f8-abfa7261181a"
      },
      "source": [
        "P=[]\n",
        "for i in range(1,xlimit):\n",
        "  kar=df['Google Kapanış'][i]-df['Google Kapanış'][i-1]\n",
        "  P.append(kar)\n",
        "print(sum(P))"
      ],
      "execution_count": 36,
      "outputs": [
        {
          "output_type": "stream",
          "text": [
            "523.026916\n"
          ],
          "name": "stdout"
        }
      ]
    },
    {
      "cell_type": "code",
      "metadata": {
        "id": "CzaLkI0TY6lp",
        "colab_type": "code",
        "colab": {
          "base_uri": "https://localhost:8080/",
          "height": 584
        },
        "outputId": "14b62612-ee14-428a-cc67-fb918c414c3a"
      },
      "source": [
        "fiyatDagilim=P.sort() #Bence üst limitlerde aşırı değerler olsa da Normal Dağılıma Benzedi, Doğru Yaptığımdan emin değilim, fakat kesinlikle bir şeyler yaptım :D\n",
        "plt.hist(P, bins = 50)"
      ],
      "execution_count": 42,
      "outputs": [
        {
          "output_type": "execute_result",
          "data": {
            "text/plain": [
              "(array([  1.,   1.,   2.,   0.,   1.,   5.,   4.,   5.,   9.,  13.,  21.,\n",
              "         33.,  54.,  75., 113., 120.,  95.,  64.,  50.,  33.,  26.,  12.,\n",
              "          5.,   3.,   2.,   1.,   1.,   1.,   0.,   0.,   0.,   0.,   2.,\n",
              "          1.,   0.,   0.,   0.,   0.,   0.,   0.,   0.,   0.,   0.,   0.,\n",
              "          0.,   0.,   0.,   0.,   0.,   1.]),\n",
              " array([-40.369995  , -37.70099476, -35.03199452, -32.36299428,\n",
              "        -29.69399404, -27.0249938 , -24.35599356, -21.68699332,\n",
              "        -19.01799308, -16.34899284, -13.6799926 , -11.01099236,\n",
              "         -8.34199212,  -5.67299188,  -3.00399164,  -0.3349914 ,\n",
              "          2.33400884,   5.00300908,   7.67200932,  10.34100956,\n",
              "         13.0100098 ,  15.67901004,  18.34801028,  21.01701052,\n",
              "         23.68601076,  26.355011  ,  29.02401124,  31.69301148,\n",
              "         34.36201172,  37.03101196,  39.7000122 ,  42.36901244,\n",
              "         45.03801268,  47.70701292,  50.37601316,  53.0450134 ,\n",
              "         55.71401364,  58.38301388,  61.05201412,  63.72101436,\n",
              "         66.3900146 ,  69.05901484,  71.72801508,  74.39701532,\n",
              "         77.06601556,  79.7350158 ,  82.40401604,  85.07301628,\n",
              "         87.74201652,  90.41101676,  93.080017  ]),\n",
              " <a list of 50 Patch objects>)"
            ]
          },
          "metadata": {
            "tags": []
          },
          "execution_count": 42
        },
        {
          "output_type": "display_data",
          "data": {
            "image/png": "[encoded data removed]",
            "text/plain": [
              "<Figure size 432x288 with 1 Axes>"
            ]
          },
          "metadata": {
            "tags": []
          }
        }
      ]
    }
  ]
}